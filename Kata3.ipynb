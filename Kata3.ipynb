{
 "cells": [
  {
   "cell_type": "code",
   "execution_count": 5,
   "metadata": {},
   "outputs": [
    {
     "name": "stdout",
     "output_type": "stream",
     "text": [
      "110\n"
     ]
    }
   ],
   "source": [
    "a=45\n",
    "b=65\n",
    "if a<b: \n",
    "    operacion=a+b\n",
    "    print(operacion)\n",
    "else:\n",
    "    print(\"valor no valido\")"
   ]
  },
  {
   "cell_type": "markdown",
   "metadata": {},
   "source": [
    "## Detector de amenazas"
   ]
  },
  {
   "cell_type": "code",
   "execution_count": 3,
   "metadata": {},
   "outputs": [
    {
     "name": "stdout",
     "output_type": "stream",
     "text": [
      "¡ADVERTENCIA! Asteroide acercandose a: 45 km/s\n"
     ]
    }
   ],
   "source": [
    "VelocidadDeAsteroide= 45\n",
    "if VelocidadDeAsteroide > 25:\n",
    "    print(\"¡ADVERTENCIA! Asteroide acercandose a: \" + str(VelocidadDeAsteroide) + \" km/s\" )\n",
    "else:\n",
    "    print(\"Fuera de peligro\")\n"
   ]
  },
  {
   "cell_type": "markdown",
   "metadata": {},
   "source": [
    "## Detector de amenazas y destellos de luz"
   ]
  },
  {
   "cell_type": "code",
   "execution_count": 1,
   "metadata": {},
   "outputs": [
    {
     "name": "stdout",
     "output_type": "stream",
     "text": [
      "Fuera de peligro ni destellos\n"
     ]
    }
   ],
   "source": [
    "VelocidadDeAsteroide = 19\n",
    "if VelocidadDeAsteroide > 25:\n",
    "    print(\"¡ADVERTENCIA! Asteroide acercandose a: \" + str(VelocidadDeAsteroide) + \" km/s\" )\n",
    "elif VelocidadDeAsteroide >= 20:\n",
    "    print(\"Busque asteroide en el cielo\")\n",
    "else:\n",
    "    print(\"Fuera de peligro ni destellos\")"
   ]
  },
  {
   "cell_type": "markdown",
   "metadata": {},
   "source": [
    "## Mejora en detector de amenazas"
   ]
  },
  {
   "cell_type": "code",
   "execution_count": 27,
   "metadata": {},
   "outputs": [
    {
     "name": "stdout",
     "output_type": "stream",
     "text": [
      "Busque destellos en el cielo\n"
     ]
    }
   ],
   "source": [
    "VelocidadDeAsteroide = 25\n",
    "TamañoDeAsteroide = 40\n",
    "if VelocidadDeAsteroide > 25 and TamañoDeAsteroide >25 and TamañoDeAsteroide < 1000:\n",
    "    print(\"¡ADVERTENCIA! Asteroide acercandose a una velocidad de : \" + str(VelocidadDeAsteroide) + \" km/s\" + \" y con un diametro de: \" +str(TamañoDeAsteroide) + \" metros\")\n",
    "elif VelocidadDeAsteroide >= 20:\n",
    "    print(\"Busque destellos en el cielo\")\n",
    "else:\n",
    "    print(\"Fuera de peligro ni destellos\")"
   ]
  }
 ],
 "metadata": {
  "interpreter": {
   "hash": "aee8b7b246df8f9039afb4144a1f6fd8d2ca17a180786b69acc140d282b71a49"
  },
  "kernelspec": {
   "display_name": "Python 3.10.2 64-bit",
   "language": "python",
   "name": "python3"
  },
  "language_info": {
   "codemirror_mode": {
    "name": "ipython",
    "version": 3
   },
   "file_extension": ".py",
   "mimetype": "text/x-python",
   "name": "python",
   "nbconvert_exporter": "python",
   "pygments_lexer": "ipython3",
   "version": "3.10.2"
  },
  "orig_nbformat": 4
 },
 "nbformat": 4,
 "nbformat_minor": 2
}
