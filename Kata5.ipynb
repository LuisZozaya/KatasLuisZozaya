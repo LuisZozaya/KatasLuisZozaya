{
 "cells": [
  {
   "cell_type": "code",
   "execution_count": 7,
   "metadata": {},
   "outputs": [
    {
     "name": "stdout",
     "output_type": "stream",
     "text": [
      "628949330\n",
      "390577533.93\n"
     ]
    }
   ],
   "source": [
    "first_planet = 149597870\n",
    "second_planet = 778547200\n",
    "distance_km = second_planet - first_planet\n",
    "print(distance_km)\n",
    "distance_mi = distance_km * 0.621\n",
    "print(distance_mi)\n",
    "\n"
   ]
  },
  {
   "cell_type": "code",
   "execution_count": 9,
   "metadata": {},
   "outputs": [
    {
     "name": "stdout",
     "output_type": "stream",
     "text": [
      "628949330\n",
      "390577533.93\n"
     ]
    },
    {
     "ename": "ValueError",
     "evalue": "invalid literal for int() with base 10: ''",
     "output_type": "error",
     "traceback": [
      "\u001b[0;31m---------------------------------------------------------------------------\u001b[0m",
      "\u001b[0;31mValueError\u001b[0m                                Traceback (most recent call last)",
      "\u001b[1;32m/Users/luiszozaya/Desktop/LaunchX/Kata5.ipynb Cell 2'\u001b[0m in \u001b[0;36m<module>\u001b[0;34m\u001b[0m\n\u001b[1;32m      <a href='vscode-notebook-cell:/Users/luiszozaya/Desktop/LaunchX/Kata5.ipynb#ch0000002?line=6'>7</a>\u001b[0m first_planet \u001b[39m=\u001b[39m \u001b[39minput\u001b[39m(\u001b[39m'\u001b[39m\u001b[39mIntroduzca la distancia del sol para el primer planeta en KM\u001b[39m\u001b[39m'\u001b[39m)\n\u001b[1;32m      <a href='vscode-notebook-cell:/Users/luiszozaya/Desktop/LaunchX/Kata5.ipynb#ch0000002?line=7'>8</a>\u001b[0m second_planet \u001b[39m=\u001b[39m \u001b[39minput\u001b[39m(\u001b[39m'\u001b[39m\u001b[39mIntroduzca la distancia desde el sol para el segundo planeta en KM\u001b[39m\u001b[39m'\u001b[39m)\n\u001b[0;32m----> <a href='vscode-notebook-cell:/Users/luiszozaya/Desktop/LaunchX/Kata5.ipynb#ch0000002?line=8'>9</a>\u001b[0m first_planet \u001b[39m=\u001b[39m \u001b[39mint\u001b[39;49m(first_planet)\n\u001b[1;32m     <a href='vscode-notebook-cell:/Users/luiszozaya/Desktop/LaunchX/Kata5.ipynb#ch0000002?line=9'>10</a>\u001b[0m second_planet \u001b[39m=\u001b[39m \u001b[39mint\u001b[39m(second_planet)\n\u001b[1;32m     <a href='vscode-notebook-cell:/Users/luiszozaya/Desktop/LaunchX/Kata5.ipynb#ch0000002?line=10'>11</a>\u001b[0m distance_km \u001b[39m=\u001b[39m second_planet \u001b[39m-\u001b[39m first_planet\n",
      "\u001b[0;31mValueError\u001b[0m: invalid literal for int() with base 10: ''"
     ]
    }
   ],
   "source": [
    "first_planet = 149597870\n",
    "second_planet = 778547200\n",
    "distance_km = second_planet - first_planet\n",
    "print(distance_km)\n",
    "distance_mi = distance_km * 0.621\n",
    "print(distance_mi)\n",
    "first_planet = input('Introduzca la distancia del sol para el primer planeta en KM')\n",
    "second_planet = input('Introduzca la distancia desde el sol para el segundo planeta en KM')\n",
    "first_planet = int(first_planet)\n",
    "second_planet = int(second_planet)\n",
    "distance_km = second_planet - first_planet\n",
    "print(distance_km)\n",
    "distance_mi = distance_km * 0.621\n",
    "print(abs(distance_mi))\n"
   ]
  }
 ],
 "metadata": {
  "interpreter": {
   "hash": "aee8b7b246df8f9039afb4144a1f6fd8d2ca17a180786b69acc140d282b71a49"
  },
  "kernelspec": {
   "display_name": "Python 3.10.2 64-bit",
   "language": "python",
   "name": "python3"
  },
  "language_info": {
   "codemirror_mode": {
    "name": "ipython",
    "version": 3
   },
   "file_extension": ".py",
   "mimetype": "text/x-python",
   "name": "python",
   "nbconvert_exporter": "python",
   "pygments_lexer": "ipython3",
   "version": "3.10.2"
  },
  "orig_nbformat": 4
 },
 "nbformat": 4,
 "nbformat_minor": 2
}
